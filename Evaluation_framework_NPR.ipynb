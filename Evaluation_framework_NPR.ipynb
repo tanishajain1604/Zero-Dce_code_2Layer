{
  "nbformat": 4,
  "nbformat_minor": 0,
  "metadata": {
    "colab": {
      "provenance": []
    },
    "kernelspec": {
      "name": "python3",
      "display_name": "Python 3"
    },
    "language_info": {
      "name": "python"
    }
  },
  "cells": [
    {
      "cell_type": "code",
      "source": [
        "from skimage.metrics import structural_similarity as ssim\n",
        "import cv2\n",
        "from math import log10, sqrt\n",
        "import csv\n",
        "import glob\n",
        "import numpy as np\n",
        "\n",
        "# Create a CSV file\n",
        "evaluation_metrics = \"evaluation.csv\"\n",
        "fields = ['Image', 'SSIM', 'MSE', 'PSNR']\n",
        "\n",
        "dir1 = \"/content/dir1\"  #ground truth images dataset\n",
        "dir2 = \"/content/dir2\"  #model trained images dataset\n",
        "\n",
        "image_files1 = glob.glob(f'{dir1}/*')\n",
        "image_files2 = glob.glob(f'{dir2}/*')\n",
        "\n",
        "if not image_files1 or not image_files2:\n",
        "    print(\"No images found in one or both directories.\")\n",
        "else:\n",
        "    with open(evaluation_metrics, 'w', newline='') as csvfile:\n",
        "        writer = csv.writer(csvfile)\n",
        "        writer.writerow(fields)\n",
        "\n",
        "        for i in range(len(image_files1)):\n",
        "            # Read images\n",
        "            before_img = cv2.imread(image_files1[i])\n",
        "            after_img = cv2.imread(image_files2[i])\n",
        "\n",
        "            # Convert to grayscale\n",
        "            before_gray = cv2.cvtColor(before_img, cv2.COLOR_BGR2GRAY)\n",
        "            after_gray = cv2.cvtColor(after_img, cv2.COLOR_BGR2GRAY)\n",
        "\n",
        "            # SSIM\n",
        "            score, diff = ssim(before_gray, after_gray, full=True)\n",
        "\n",
        "            # MSE\n",
        "            def mse(before_gray, after_gray):\n",
        "                h, w = before_gray.shape\n",
        "                diff_mse = cv2.subtract(before_gray, after_gray)\n",
        "                err = np.sum(diff_mse ** 2)\n",
        "                mse = err / (float(h * w))\n",
        "                return mse\n",
        "\n",
        "            error = mse(before_gray, after_gray)\n",
        "\n",
        "            # PSNR\n",
        "            def PSNR(original, compressed):\n",
        "                mse = np.mean((original - compressed) ** 2)\n",
        "                if mse == 0:\n",
        "                    return 100\n",
        "                max_pixel = 255.0\n",
        "                psnr = 20 * log10(max_pixel / sqrt(mse))\n",
        "                return psnr\n",
        "\n",
        "            value = PSNR(before_gray, after_gray)\n",
        "\n",
        "            # Write results to CSV\n",
        "            writer.writerow([i+1, score, error, value])\n"
      ],
      "metadata": {
        "id": "afBFX450Hkz2"
      },
      "execution_count": 17,
      "outputs": []
    }
  ]
}